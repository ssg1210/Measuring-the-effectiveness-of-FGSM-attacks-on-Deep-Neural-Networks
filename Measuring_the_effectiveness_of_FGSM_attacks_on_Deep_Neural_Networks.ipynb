{
  "nbformat": 4,
  "nbformat_minor": 0,
  "metadata": {
    "colab": {
      "name": "Measuring the effectiveness of FGSM attacks on Deep Neural Networks",
      "provenance": [],
      "collapsed_sections": [],
      "toc_visible": true
    },
    "kernelspec": {
      "name": "python3",
      "display_name": "Python 3"
    }
  },
  "cells": [
    {
      "cell_type": "markdown",
      "source": [
        "\n",
        "\n",
        "---\n",
        "\n",
        "# **Measuring the effectiveness of FGSM attacks on Deep Neural Networks** \n",
        "# **By Srishti Gupta and Prajwala Ashok** \n",
        "---\n",
        "\n"
      ],
      "metadata": {
        "id": "pMR5492zoTk0"
      }
    },
    {
      "cell_type": "markdown",
      "metadata": {
        "id": "XYCUEueee47L"
      },
      "source": [
        "# Building DNN(Deep Neural Networks) and Calculating Gradients"
      ]
    },
    {
      "cell_type": "code",
      "metadata": {
        "id": "fe3IHw0aHq8O"
      },
      "source": [
        "import tensorflow as tf\n",
        "import numpy as np\n",
        "import matplotlib.pyplot as plt"
      ],
      "execution_count": 1,
      "outputs": []
    },
    {
      "cell_type": "markdown",
      "metadata": {
        "id": "AxMAVS66x1px"
      },
      "source": [
        "Loading the Dataset"
      ]
    },
    {
      "cell_type": "code",
      "metadata": {
        "id": "lhOB8bGYIFVb"
      },
      "source": [
        "mnist = tf.keras.datasets.mnist\n",
        "#Loading MNIST dataset\n",
        "#Splitting into test and train\n",
        "(x_train, y_train), (x_test, y_test) = mnist.load_data()\n",
        "x_train, x_test = x_train / 255.0, x_test / 255.0"
      ],
      "execution_count": 2,
      "outputs": []
    },
    {
      "cell_type": "markdown",
      "metadata": {
        "id": "8l1h_TK7tvFJ"
      },
      "source": [
        "Making the model with 300,600 & 900 layers and relu activation\n",
        "(comment out the code for whatever layer combination you want it to work for)"
      ]
    },
    {
      "cell_type": "code",
      "metadata": {
        "id": "yK2lyaNFIJfk",
        "colab": {
          "base_uri": "https://localhost:8080/",
          "height": 53
        },
        "outputId": "169cb758-a6c3-4868-8df8-0020558fc2b6"
      },
      "source": [
        "model = tf.keras.models.Sequential([\n",
        "  tf.keras.layers.Flatten(input_shape=(28, 28)),\n",
        "  tf.keras.layers.Dense(300, activation='relu'),\n",
        "  tf.keras.layers.Dropout(0.2),\n",
        "  tf.keras.layers.Dense(10)\n",
        "])\n",
        "\"\"\"\n",
        " model = tf.keras.models.Sequential([\n",
        "  tf.keras.layers.Flatten(input_shape=(28, 28)),\n",
        "  tf.keras.layers.Dense(600, activation='relu'),\n",
        "  tf.keras.layers.Dropout(0.2),\n",
        "  tf.keras.layers.Dense(10)\n",
        "])\n",
        "\"\"\"\n",
        "\"\"\"\n",
        " model = tf.keras.models.Sequential([\n",
        "  tf.keras.layers.Flatten(input_shape=(28, 28)),\n",
        "  tf.keras.layers.Dense(900, activation='relu'),\n",
        "  tf.keras.layers.Dropout(0.2),\n",
        "  tf.keras.layers.Dense(10)\n",
        "])\n",
        "\"\"\""
      ],
      "execution_count": 3,
      "outputs": [
        {
          "output_type": "execute_result",
          "data": {
            "text/plain": [
              "\"\\n model = tf.keras.models.Sequential([\\n  tf.keras.layers.Flatten(input_shape=(28, 28)),\\n  tf.keras.layers.Dense(900, activation='relu'),\\n  tf.keras.layers.Dropout(0.2),\\n  tf.keras.layers.Dense(10)\\n])\\n\""
            ],
            "application/vnd.google.colaboratory.intrinsic+json": {
              "type": "string"
            }
          },
          "metadata": {},
          "execution_count": 3
        }
      ]
    },
    {
      "cell_type": "markdown",
      "metadata": {
        "id": "wN0BHLOCx48y"
      },
      "source": [
        "Finding the Model Summary"
      ]
    },
    {
      "cell_type": "code",
      "metadata": {
        "id": "JVQZUvkPIe2H",
        "colab": {
          "base_uri": "https://localhost:8080/"
        },
        "outputId": "d8413751-e149-4981-f5f6-5ef21fa4c6b2"
      },
      "source": [
        "model.summary()"
      ],
      "execution_count": 4,
      "outputs": [
        {
          "output_type": "stream",
          "name": "stdout",
          "text": [
            "Model: \"sequential\"\n",
            "_________________________________________________________________\n",
            " Layer (type)                Output Shape              Param #   \n",
            "=================================================================\n",
            " flatten (Flatten)           (None, 784)               0         \n",
            "                                                                 \n",
            " dense (Dense)               (None, 300)               235500    \n",
            "                                                                 \n",
            " dropout (Dropout)           (None, 300)               0         \n",
            "                                                                 \n",
            " dense_1 (Dense)             (None, 10)                3010      \n",
            "                                                                 \n",
            "=================================================================\n",
            "Total params: 238,510\n",
            "Trainable params: 238,510\n",
            "Non-trainable params: 0\n",
            "_________________________________________________________________\n"
          ]
        }
      ]
    },
    {
      "cell_type": "markdown",
      "metadata": {
        "id": "tGjGq_zux_PT"
      },
      "source": [
        "Defining the Loss Function"
      ]
    },
    {
      "cell_type": "code",
      "metadata": {
        "id": "t8_e86pKJLk0"
      },
      "source": [
        "loss_fn = tf.keras.losses.SparseCategoricalCrossentropy(from_logits=True)"
      ],
      "execution_count": 5,
      "outputs": []
    },
    {
      "cell_type": "code",
      "metadata": {
        "id": "dw0i1pRhJn5A"
      },
      "source": [
        "model.compile(optimizer='adam',\n",
        "              loss=loss_fn,\n",
        "              metrics=['accuracy'])"
      ],
      "execution_count": 6,
      "outputs": []
    },
    {
      "cell_type": "markdown",
      "metadata": {
        "id": "O1geEmkuyDv7"
      },
      "source": [
        "Training the model"
      ]
    },
    {
      "cell_type": "code",
      "metadata": {
        "id": "bFu8YN7FJr6v",
        "colab": {
          "base_uri": "https://localhost:8080/"
        },
        "outputId": "c4814e1d-90f0-4379-f291-773fffa8eabe"
      },
      "source": [
        "model.fit(x_train, y_train, epochs=15)"
      ],
      "execution_count": 7,
      "outputs": [
        {
          "output_type": "stream",
          "name": "stdout",
          "text": [
            "Epoch 1/15\n",
            "1875/1875 [==============================] - 15s 7ms/step - loss: 0.2461 - accuracy: 0.9286\n",
            "Epoch 2/15\n",
            "1875/1875 [==============================] - 9s 5ms/step - loss: 0.1084 - accuracy: 0.9670\n",
            "Epoch 3/15\n",
            "1875/1875 [==============================] - 8s 4ms/step - loss: 0.0788 - accuracy: 0.9752\n",
            "Epoch 4/15\n",
            "1875/1875 [==============================] - 8s 4ms/step - loss: 0.0611 - accuracy: 0.9809\n",
            "Epoch 5/15\n",
            "1875/1875 [==============================] - 7s 4ms/step - loss: 0.0501 - accuracy: 0.9834\n",
            "Epoch 6/15\n",
            "1875/1875 [==============================] - 7s 4ms/step - loss: 0.0415 - accuracy: 0.9862\n",
            "Epoch 7/15\n",
            "1875/1875 [==============================] - 7s 4ms/step - loss: 0.0374 - accuracy: 0.9877\n",
            "Epoch 8/15\n",
            "1875/1875 [==============================] - 7s 4ms/step - loss: 0.0325 - accuracy: 0.9893\n",
            "Epoch 9/15\n",
            "1875/1875 [==============================] - 7s 4ms/step - loss: 0.0289 - accuracy: 0.9903\n",
            "Epoch 10/15\n",
            "1875/1875 [==============================] - 7s 4ms/step - loss: 0.0257 - accuracy: 0.9915\n",
            "Epoch 11/15\n",
            "1875/1875 [==============================] - 7s 4ms/step - loss: 0.0259 - accuracy: 0.9910\n",
            "Epoch 12/15\n",
            "1875/1875 [==============================] - 7s 4ms/step - loss: 0.0222 - accuracy: 0.9921\n",
            "Epoch 13/15\n",
            "1875/1875 [==============================] - 7s 4ms/step - loss: 0.0196 - accuracy: 0.9931\n",
            "Epoch 14/15\n",
            "1875/1875 [==============================] - 7s 4ms/step - loss: 0.0181 - accuracy: 0.9939\n",
            "Epoch 15/15\n",
            "1875/1875 [==============================] - 7s 4ms/step - loss: 0.0187 - accuracy: 0.9940\n"
          ]
        },
        {
          "output_type": "execute_result",
          "data": {
            "text/plain": [
              "<keras.callbacks.History at 0x7f5ae2a49a90>"
            ]
          },
          "metadata": {},
          "execution_count": 7
        }
      ]
    },
    {
      "cell_type": "markdown",
      "source": [
        "Evaluating The Model"
      ],
      "metadata": {
        "id": "TDQV-kCrrUio"
      }
    },
    {
      "cell_type": "code",
      "metadata": {
        "id": "wgdWr8UaJwR1",
        "colab": {
          "base_uri": "https://localhost:8080/"
        },
        "outputId": "b45a55f9-00b5-4d15-8684-697801b25fff"
      },
      "source": [
        "model.evaluate(x_test,  y_test, verbose=2)"
      ],
      "execution_count": 8,
      "outputs": [
        {
          "output_type": "stream",
          "name": "stdout",
          "text": [
            "313/313 - 1s - loss: 0.0842 - accuracy: 0.9809 - 694ms/epoch - 2ms/step\n"
          ]
        },
        {
          "output_type": "execute_result",
          "data": {
            "text/plain": [
              "[0.08419976383447647, 0.98089998960495]"
            ]
          },
          "metadata": {},
          "execution_count": 8
        }
      ]
    },
    {
      "cell_type": "markdown",
      "metadata": {
        "id": "GHlGbTn1t0x4"
      },
      "source": [
        "Recording the initial accuracy over clean images"
      ]
    },
    {
      "cell_type": "code",
      "metadata": {
        "id": "9DYTbOnSYDH2",
        "colab": {
          "base_uri": "https://localhost:8080/"
        },
        "outputId": "2d122773-10cd-4d17-c6f4-66798b3fcf11"
      },
      "source": [
        "accuracyofmodel = np.argmax(model.predict(x_test), axis=-1)\n",
        "accuracyrate = 0\n",
        "\n",
        "for i in range(len(accuracyofmodel)):\n",
        "  if accuracyofmodel[i] == y_test[i]:\n",
        "    accuracyrate = accuracyrate+1\n",
        "  else:\n",
        "    accuracyrate = accuracyrate+0\n",
        "accuracyrate = accuracyrate/10000\n",
        "print(accuracyrate)"
      ],
      "execution_count": 9,
      "outputs": [
        {
          "output_type": "stream",
          "name": "stdout",
          "text": [
            "0.9809\n"
          ]
        }
      ]
    },
    {
      "cell_type": "markdown",
      "metadata": {
        "id": "fW71pE2EyIsc"
      },
      "source": [
        "Building the initial signed gradient ( or the noise)"
      ]
    },
    {
      "cell_type": "code",
      "metadata": {
        "id": "67wVdf5oPr5T"
      },
      "source": [
        "image_tensor = tf.convert_to_tensor(x_test,dtype=tf.float32)\n",
        "with tf.GradientTape() as tape:\n",
        "    tape.watch(image_tensor)\n",
        "    output = model(image_tensor)\n",
        "    loss = loss_fn(y_test, output)\n",
        "gradient = tape.gradient(loss, image_tensor)\n",
        "signed_grad = tf.sign(gradient)\n"
      ],
      "execution_count": 10,
      "outputs": []
    },
    {
      "cell_type": "markdown",
      "metadata": {
        "id": "bkawrzFVfDIn"
      },
      "source": [
        "# Conducting Untargeted FGSM Attacks"
      ]
    },
    {
      "cell_type": "markdown",
      "metadata": {
        "id": "iSYHTPxEyNGw"
      },
      "source": [
        "Defining the attack:"
      ]
    },
    {
      "cell_type": "code",
      "metadata": {
        "id": "txhnePJZT7yO",
        "colab": {
          "base_uri": "https://localhost:8080/",
          "height": 1000
        },
        "outputId": "c252c3cf-dcb9-43dd-eab5-a744c58845b6"
      },
      "source": [
        "epsilon = [1,5,10,20,30,40,50]\n",
        "new_epsilon = [0,0,0,0,0,0,0]\n",
        "#Dividing each epsilon over 255\n",
        "for j in range(len(epsilon)):\n",
        "  new_epsilon[j] = epsilon[j]/255\n",
        "\n",
        "accuracyuntargeted = np.zeros(shape=(len(epsilon)))\n",
        "adversarial_array = x_test\n",
        "adversarial_arrayLabel = y_test\n",
        "for i in range(len(epsilon)):\n",
        "  accuracy = 0\n",
        "  print(new_epsilon[i])\n",
        "  for k in range(len(x_test)):\n",
        "    image = x_test[k]  \n",
        "    #Using the formula from the research paper we refered \"newImage = image + ε(∇lF,y∗ (image)) \" to run untargeted attack\n",
        "    adversarial_array[k] = image + signed_grad[k]*new_epsilon[i]\n",
        "    adversarial_array[k] = tf.clip_by_value(adversarial_array[k], 0, 1)\n",
        "    adversarial_arrayLabel[k] = y_test[k]\n",
        "  #Finding the sucessrate of the attack over the model\n",
        "  model.evaluate(adversarial_array,  adversarial_arrayLabel, verbose=2)\n",
        "  #Building the prediction matrix\n",
        "  untargeted_predictions = np.argmax(model.predict(adversarial_array), axis=-1)\n",
        "  for l in range(len(y_test)):\n",
        "    if untargeted_predictions[l] == adversarial_arrayLabel[l]:\n",
        "      #Counting the number of correctly predicted images despite the attack\n",
        "      accuracy = accuracy+1\n",
        "    else:\n",
        "      accuracy = accuracy+0\n",
        "  testacc = accuracy/10000\n",
        "  #Calculating the success rate of the attack by finding the number of images correctly classified before the attack v/s after te attack\n",
        "  attackacc = 1 - testacc/accuracyrate\n",
        "  plt.imshow(adversarial_array[0])\n",
        "  plt.show()\n",
        "  accuracyuntargeted[i] = attackacc*100\n",
        "  print(\"epsilon,accuracy\",new_epsilon[i],attackacc)\n",
        "\n",
        "print(accuracyuntargeted)"
      ],
      "execution_count": 11,
      "outputs": [
        {
          "output_type": "stream",
          "name": "stdout",
          "text": [
            "0.00392156862745098\n",
            "313/313 - 1s - loss: 0.1083 - accuracy: 0.9757 - 551ms/epoch - 2ms/step\n"
          ]
        },
        {
          "output_type": "display_data",
          "data": {
            "text/plain": [
              "<Figure size 432x288 with 1 Axes>"
            ],
            "image/png": "[encoded data removed]"
          },
          "metadata": {
            "needs_background": "light"
          }
        },
        {
          "output_type": "stream",
          "name": "stdout",
          "text": [
            "epsilon,accuracy 0.00392156862745098 0.005301253950453666\n",
            "0.0196078431372549\n",
            "313/313 - 1s - loss: 0.3693 - accuracy: 0.9172 - 562ms/epoch - 2ms/step\n"
          ]
        },
        {
          "output_type": "display_data",
          "data": {
            "text/plain": [
              "<Figure size 432x288 with 1 Axes>"
            ],
            "image/png": "[encoded data removed]"
          },
          "metadata": {
            "needs_background": "light"
          }
        },
        {
          "output_type": "stream",
          "name": "stdout",
          "text": [
            "epsilon,accuracy 0.0196078431372549 0.06494036089305733\n",
            "0.0392156862745098\n",
            "313/313 - 1s - loss: 2.5865 - accuracy: 0.5441 - 558ms/epoch - 2ms/step\n"
          ]
        },
        {
          "output_type": "display_data",
          "data": {
            "text/plain": [
              "<Figure size 432x288 with 1 Axes>"
            ],
            "image/png": "[encoded data removed]"
          },
          "metadata": {
            "needs_background": "light"
          }
        },
        {
          "output_type": "stream",
          "name": "stdout",
          "text": [
            "epsilon,accuracy 0.0392156862745098 0.44530533183810783\n",
            "0.0784313725490196\n",
            "313/313 - 1s - loss: 10.0806 - accuracy: 0.1912 - 536ms/epoch - 2ms/step\n"
          ]
        },
        {
          "output_type": "display_data",
          "data": {
            "text/plain": [
              "<Figure size 432x288 with 1 Axes>"
            ],
            "image/png": "[encoded data removed]"
          },
          "metadata": {
            "needs_background": "light"
          }
        },
        {
          "output_type": "stream",
          "name": "stdout",
          "text": [
            "epsilon,accuracy 0.0784313725490196 0.8050769701294729\n",
            "0.11764705882352941\n",
            "313/313 - 1s - loss: 22.3631 - accuracy: 0.0607 - 565ms/epoch - 2ms/step\n"
          ]
        },
        {
          "output_type": "display_data",
          "data": {
            "text/plain": [
              "<Figure size 432x288 with 1 Axes>"
            ],
            "image/png": "[encoded data removed]"
          },
          "metadata": {
            "needs_background": "light"
          }
        },
        {
          "output_type": "stream",
          "name": "stdout",
          "text": [
            "epsilon,accuracy 0.11764705882352941 0.9381180548475889\n",
            "0.1568627450980392\n",
            "313/313 - 1s - loss: 41.6639 - accuracy: 0.0248 - 561ms/epoch - 2ms/step\n"
          ]
        },
        {
          "output_type": "display_data",
          "data": {
            "text/plain": [
              "<Figure size 432x288 with 1 Axes>"
            ],
            "image/png": "[encoded data removed]"
          },
          "metadata": {
            "needs_background": "light"
          }
        },
        {
          "output_type": "stream",
          "name": "stdout",
          "text": [
            "epsilon,accuracy 0.1568627450980392 0.9747170965439902\n",
            "0.19607843137254902\n",
            "313/313 - 1s - loss: 69.6689 - accuracy: 0.0126 - 507ms/epoch - 2ms/step\n"
          ]
        },
        {
          "output_type": "display_data",
          "data": {
            "text/plain": [
              "<Figure size 432x288 with 1 Axes>"
            ],
            "image/png": "[encoded data removed]"
          },
          "metadata": {
            "needs_background": "light"
          }
        },
        {
          "output_type": "stream",
          "name": "stdout",
          "text": [
            "epsilon,accuracy 0.19607843137254902 0.9871546538892854\n",
            "[ 0.5301254   6.49403609 44.53053318 80.50769701 93.81180548 97.47170965\n",
            " 98.71546539]\n"
          ]
        }
      ]
    },
    {
      "cell_type": "markdown",
      "metadata": {
        "id": "FPQ-NCdXfKM5"
      },
      "source": [
        "# Conducting Targeted FGSM attacks"
      ]
    },
    {
      "cell_type": "markdown",
      "metadata": {
        "id": "uIzLT5fuy1Sg"
      },
      "source": [
        "Redefining x_test to ensure only clean images are used"
      ]
    },
    {
      "cell_type": "code",
      "metadata": {
        "id": "Pn-OehcCvhvY"
      },
      "source": [
        "mnist = tf.keras.datasets.mnist\n",
        "\n",
        "(x_train, y_train), (x_test, y_test) = mnist.load_data()\n",
        "x_train, x_test = x_train / 255.0, x_test / 255.0"
      ],
      "execution_count": 12,
      "outputs": []
    },
    {
      "cell_type": "markdown",
      "metadata": {
        "id": "hBdA5PRmy-Bg"
      },
      "source": [
        "Building the matrix for target classes"
      ]
    },
    {
      "cell_type": "code",
      "metadata": {
        "id": "_zbASMqDi0UI"
      },
      "source": [
        "targetclasses = np.zeros(shape=len(y_test))\n",
        "for i in range(len(y_test)):\n",
        "  targetclasses[i] = (y_test[i]+2)%10\n",
        " \n"
      ],
      "execution_count": 13,
      "outputs": []
    },
    {
      "cell_type": "markdown",
      "metadata": {
        "id": "xmBsF1gBzCXL"
      },
      "source": [
        "Calculating the gradient with respect to target classes"
      ]
    },
    {
      "cell_type": "code",
      "metadata": {
        "id": "g2A7dsmEg6e1"
      },
      "source": [
        "image_tensor2 = tf.convert_to_tensor(x_test,dtype=tf.float32)\n",
        "with tf.GradientTape() as tape:\n",
        "    tape.watch(image_tensor2)\n",
        "    output2 = model(image_tensor2)\n",
        "    loss2 = loss_fn(targetclasses, output2)\n",
        "gradient2 = tape.gradient(loss2, image_tensor2)\n",
        "signed_grad2 = tf.sign(gradient2)"
      ],
      "execution_count": 14,
      "outputs": []
    },
    {
      "cell_type": "markdown",
      "metadata": {
        "id": "c4fHVX8ht-ni"
      },
      "source": [
        "Running the targeted attack which is a modified version of the untargeted attack.\n",
        "\n",
        "**Note: we sometimes experienced a fail with targeted attacks, running the code twice or three resolved this issue**"
      ]
    },
    {
      "cell_type": "code",
      "metadata": {
        "id": "BJ6M0SVOevvI",
        "colab": {
          "base_uri": "https://localhost:8080/",
          "height": 1000
        },
        "outputId": "8681e2a6-7718-40e6-e266-9b5687a8d2a6"
      },
      "source": [
        "accuracytargeted = np.zeros(shape=(len(epsilon)))\n",
        "adversarial_arraytarget = x_test\n",
        "targetLabel = y_test\n",
        "for i in range(len(epsilon)):\n",
        "  accuracy = 0\n",
        "  print(new_epsilon[i])\n",
        "  for k in range(len(x_test)):\n",
        "    image = x_test[k]  \n",
        "    #Using the formula from the research paper we refered \"newImage = image − ε(∇lF,y′ (image))\" to caonduct the targeted fgsm attack \n",
        "    adversarial_arraytarget[k] = image - signed_grad2[k]*new_epsilon[i]\n",
        "    adversarial_arraytarget[k] = tf.clip_by_value(adversarial_arraytarget[k], 0, 1)\n",
        "    targetLabel[k]=y_test[k]\n",
        "  model.evaluate(adversarial_arraytarget,  targetLabel, verbose=2)\n",
        "  targeted_predictions = np.argmax(model.predict(adversarial_arraytarget), axis=-1)\n",
        "  for l in range(len(y_test)):\n",
        "    if targeted_predictions[l] == targetLabel[l]:\n",
        "      accuracy = accuracy+1\n",
        "    else:\n",
        "      accuracy = accuracy+0\n",
        "  testacc = accuracy/10000\n",
        "  attackacc = 1 - testacc/accuracyrate\n",
        "  print(\"Prediction of Sample:\",targeted_predictions[0],\"Correct Label of Sample:\",targetLabel[0])\n",
        "  plt.imshow(adversarial_arraytarget[0])\n",
        "  plt.show()\n",
        "  accuracytargeted[i] = attackacc*100\n",
        "  print(\"epsilon,accuracy\",new_epsilon[i],attackacc)\n",
        "\n",
        "print(accuracytargeted)"
      ],
      "execution_count": 15,
      "outputs": [
        {
          "output_type": "stream",
          "name": "stdout",
          "text": [
            "0.00392156862745098\n",
            "313/313 - 1s - loss: 0.0821 - accuracy: 0.9812 - 570ms/epoch - 2ms/step\n",
            "Prediction of Sample: 7 Correct Label of Sample: 7\n"
          ]
        },
        {
          "output_type": "display_data",
          "data": {
            "text/plain": [
              "<Figure size 432x288 with 1 Axes>"
            ],
            "image/png": "[encoded data removed]"
          },
          "metadata": {
            "needs_background": "light"
          }
        },
        {
          "output_type": "stream",
          "name": "stdout",
          "text": [
            "epsilon,accuracy 0.00392156862745098 -0.00030584157406465806\n",
            "0.0196078431372549\n",
            "313/313 - 1s - loss: 0.1283 - accuracy: 0.9635 - 548ms/epoch - 2ms/step\n",
            "Prediction of Sample: 7 Correct Label of Sample: 7\n"
          ]
        },
        {
          "output_type": "display_data",
          "data": {
            "text/plain": [
              "<Figure size 432x288 with 1 Axes>"
            ],
            "image/png": "[encoded data removed]"
          },
          "metadata": {
            "needs_background": "light"
          }
        },
        {
          "output_type": "stream",
          "name": "stdout",
          "text": [
            "epsilon,accuracy 0.0196078431372549 0.017738811295748724\n",
            "0.0392156862745098\n",
            "313/313 - 1s - loss: 1.0984 - accuracy: 0.7460 - 535ms/epoch - 2ms/step\n",
            "Prediction of Sample: 7 Correct Label of Sample: 7\n"
          ]
        },
        {
          "output_type": "display_data",
          "data": {
            "text/plain": [
              "<Figure size 432x288 with 1 Axes>"
            ],
            "image/png": "[encoded data removed]"
          },
          "metadata": {
            "needs_background": "light"
          }
        },
        {
          "output_type": "stream",
          "name": "stdout",
          "text": [
            "epsilon,accuracy 0.0392156862745098 0.23947395249260883\n",
            "0.0784313725490196\n",
            "313/313 - 1s - loss: 7.9808 - accuracy: 0.1910 - 550ms/epoch - 2ms/step\n",
            "Prediction of Sample: 3 Correct Label of Sample: 7\n"
          ]
        },
        {
          "output_type": "display_data",
          "data": {
            "text/plain": [
              "<Figure size 432x288 with 1 Axes>"
            ],
            "image/png": "[encoded data removed]"
          },
          "metadata": {
            "needs_background": "light"
          }
        },
        {
          "output_type": "stream",
          "name": "stdout",
          "text": [
            "epsilon,accuracy 0.0784313725490196 0.8052808645121827\n",
            "0.11764705882352941\n",
            "313/313 - 1s - loss: 19.8781 - accuracy: 0.0119 - 551ms/epoch - 2ms/step\n",
            "Prediction of Sample: 8 Correct Label of Sample: 7\n"
          ]
        },
        {
          "output_type": "display_data",
          "data": {
            "text/plain": [
              "<Figure size 432x288 with 1 Axes>"
            ],
            "image/png": "[encoded data removed]"
          },
          "metadata": {
            "needs_background": "light"
          }
        },
        {
          "output_type": "stream",
          "name": "stdout",
          "text": [
            "epsilon,accuracy 0.11764705882352941 0.9878682842287695\n",
            "0.1568627450980392\n",
            "313/313 - 1s - loss: 38.0879 - accuracy: 0.0026 - 523ms/epoch - 2ms/step\n",
            "Prediction of Sample: 8 Correct Label of Sample: 7\n"
          ]
        },
        {
          "output_type": "display_data",
          "data": {
            "text/plain": [
              "<Figure size 432x288 with 1 Axes>"
            ],
            "image/png": "[encoded data removed]"
          },
          "metadata": {
            "needs_background": "light"
          }
        },
        {
          "output_type": "stream",
          "name": "stdout",
          "text": [
            "epsilon,accuracy 0.1568627450980392 0.9973493730247732\n",
            "0.19607843137254902\n",
            "313/313 - 1s - loss: 66.3095 - accuracy: 0.0020 - 542ms/epoch - 2ms/step\n",
            "Prediction of Sample: 8 Correct Label of Sample: 7\n"
          ]
        },
        {
          "output_type": "display_data",
          "data": {
            "text/plain": [
              "<Figure size 432x288 with 1 Axes>"
            ],
            "image/png": "[encoded data removed]"
          },
          "metadata": {
            "needs_background": "light"
          }
        },
        {
          "output_type": "stream",
          "name": "stdout",
          "text": [
            "epsilon,accuracy 0.19607843137254902 0.9979610561729024\n",
            "[-3.05841574e-02  1.77388113e+00  2.39473952e+01  8.05280865e+01\n",
            "  9.87868284e+01  9.97349373e+01  9.97961056e+01]\n"
          ]
        }
      ]
    },
    {
      "cell_type": "markdown",
      "metadata": {
        "id": "OZULamtTmbvk"
      },
      "source": [
        "Visualizing and Tabulating Accuracies of targeted and untargeted attacks over epsilon"
      ]
    },
    {
      "cell_type": "code",
      "metadata": {
        "id": "ihf5B7sEgiR6",
        "colab": {
          "base_uri": "https://localhost:8080/",
          "height": 295
        },
        "outputId": "9eca49b5-568f-49d5-b430-d7c35b19a8c7"
      },
      "source": [
        "plt.plot(new_epsilon, accuracyuntargeted, label = \"Untargeted FGSM\")\n",
        "plt.plot(new_epsilon, accuracytargeted, label = \"Targeted FGSM\")\n",
        "plt.xlabel('Epsilon')\n",
        "plt.ylabel('Accuracy')\n",
        "plt.title('Success Rate of Attacks over Epsilon ')\n",
        "plt.legend()\n",
        "plt.show() "
      ],
      "execution_count": 16,
      "outputs": [
        {
          "output_type": "display_data",
          "data": {
            "text/plain": [
              "<Figure size 432x288 with 1 Axes>"
            ],
            "image/png": "[encoded data removed]"
          },
          "metadata": {
            "needs_background": "light"
          }
        }
      ]
    },
    {
      "cell_type": "code",
      "metadata": {
        "id": "jpCMfhbR0QnK",
        "colab": {
          "base_uri": "https://localhost:8080/"
        },
        "outputId": "497ec3a2-c7fd-4081-929d-e1e8ee3869a8"
      },
      "source": [
        "from astropy.table import QTable, Table, Column\n",
        "from astropy import units as u\n",
        "t = Table()\n",
        "t = Table([new_epsilon, accuracyuntargeted, accuracytargeted], names=('Epsilon', 'Untargeted FGSM', 'Targeted FGSM'))\n",
        "print(t)"
      ],
      "execution_count": 17,
      "outputs": [
        {
          "output_type": "stream",
          "name": "stdout",
          "text": [
            "      Epsilon        Untargeted FGSM       Targeted FGSM    \n",
            "------------------- ------------------ ---------------------\n",
            "0.00392156862745098 0.5301253950453666 -0.030584157406465806\n",
            " 0.0196078431372549  6.494036089305732    1.7738811295748724\n",
            " 0.0392156862745098  44.53053318381078    23.947395249260882\n",
            " 0.0784313725490196  80.50769701294729     80.52808645121827\n",
            "0.11764705882352941  93.81180548475889     98.78682842287695\n",
            " 0.1568627450980392  97.47170965439902     99.73493730247732\n",
            "0.19607843137254902  98.71546538892854     99.79610561729024\n"
          ]
        }
      ]
    },
    {
      "cell_type": "markdown",
      "metadata": {
        "id": "rHCdMN2fli8K"
      },
      "source": [
        "# Adversarial Retraining"
      ]
    },
    {
      "cell_type": "markdown",
      "metadata": {
        "id": "N7eqZYl7Au1G"
      },
      "source": [
        "Building the gradient for training data"
      ]
    },
    {
      "cell_type": "code",
      "metadata": {
        "id": "M8Fb0EBIucdY"
      },
      "source": [
        "image_tensor3 = tf.convert_to_tensor(x_train,dtype=tf.float32)\n",
        "with tf.GradientTape() as tape:\n",
        "    tape.watch(image_tensor3)\n",
        "    output3 = model(image_tensor3)\n",
        "    loss3 = loss_fn(y_train, output3)\n",
        "gradient3 = tape.gradient(loss3, image_tensor3)\n",
        "signed_grad3 = tf.sign(gradient3)"
      ],
      "execution_count": 18,
      "outputs": []
    },
    {
      "cell_type": "markdown",
      "metadata": {
        "id": "KkbwY18pAz15"
      },
      "source": [
        "Conducting the untargeted attack on training data"
      ]
    },
    {
      "cell_type": "code",
      "metadata": {
        "id": "doRABypIliXo"
      },
      "source": [
        "accuracytargeted = np.zeros(shape=(len(epsilon)))\n",
        "adversarial_arraytargettrain = x_train\n",
        "adversarial_labels = y_train\n",
        "for k in range(len(x_train)):\n",
        "  image = x_train[k]  \n",
        "  adversarial_arraytargettrain[k] = image + signed_grad3[k]*0.0392156862745098  #10/255\n",
        "  adversarial_arraytargettrain[k] = tf.clip_by_value(adversarial_arraytargettrain[k], 0, 1)\n",
        "  adversarial_labels[k] = y_train[k]"
      ],
      "execution_count": 19,
      "outputs": []
    },
    {
      "cell_type": "markdown",
      "metadata": {
        "id": "WXpTFfLHA6Dv"
      },
      "source": [
        "Reloading a clean dataset"
      ]
    },
    {
      "cell_type": "code",
      "metadata": {
        "id": "tG1VZaOUvnMp"
      },
      "source": [
        "mnist = tf.keras.datasets.mnist\n",
        "\n",
        "(x_train, y_train), (x_test, y_test) = mnist.load_data()\n",
        "x_train, x_test = x_train / 255.0, x_test / 255.0"
      ],
      "execution_count": 20,
      "outputs": []
    },
    {
      "cell_type": "markdown",
      "metadata": {
        "id": "4j3AqMtcA9CQ"
      },
      "source": [
        "Appending the clean and perturbed datasets"
      ]
    },
    {
      "cell_type": "code",
      "metadata": {
        "id": "myCm9AqkvJ-D"
      },
      "source": [
        "x_train = np.append(x_train,adversarial_arraytargettrain,axis=0)\n",
        "y_train = np.append(y_train,adversarial_labels,axis=0)"
      ],
      "execution_count": 21,
      "outputs": []
    },
    {
      "cell_type": "markdown",
      "metadata": {
        "id": "UOWI24N_lyN5"
      },
      "source": [
        "Building a new model and using the appended dataset to train"
      ]
    },
    {
      "cell_type": "code",
      "metadata": {
        "id": "jfkkyIUTGd3h"
      },
      "source": [
        "new_model = tf.keras.models.Sequential([\n",
        "  tf.keras.layers.Flatten(input_shape=(28, 28)),\n",
        "  tf.keras.layers.Dense(300, activation='relu'),\n",
        "  tf.keras.layers.Dropout(0.2),\n",
        "  tf.keras.layers.Dense(10)\n",
        "])"
      ],
      "execution_count": 22,
      "outputs": []
    },
    {
      "cell_type": "code",
      "metadata": {
        "id": "3A-0zhxzGgJF",
        "colab": {
          "base_uri": "https://localhost:8080/"
        },
        "outputId": "aa51082a-4b68-4f8f-a4d4-62b3025a7600"
      },
      "source": [
        "new_model.summary()"
      ],
      "execution_count": 23,
      "outputs": [
        {
          "output_type": "stream",
          "name": "stdout",
          "text": [
            "Model: \"sequential_1\"\n",
            "_________________________________________________________________\n",
            " Layer (type)                Output Shape              Param #   \n",
            "=================================================================\n",
            " flatten_1 (Flatten)         (None, 784)               0         \n",
            "                                                                 \n",
            " dense_2 (Dense)             (None, 300)               235500    \n",
            "                                                                 \n",
            " dropout_1 (Dropout)         (None, 300)               0         \n",
            "                                                                 \n",
            " dense_3 (Dense)             (None, 10)                3010      \n",
            "                                                                 \n",
            "=================================================================\n",
            "Total params: 238,510\n",
            "Trainable params: 238,510\n",
            "Non-trainable params: 0\n",
            "_________________________________________________________________\n"
          ]
        }
      ]
    },
    {
      "cell_type": "code",
      "metadata": {
        "id": "ZVeRhKf5Godo"
      },
      "source": [
        "new_loss_fn = tf.keras.losses.SparseCategoricalCrossentropy(from_logits=True)"
      ],
      "execution_count": 24,
      "outputs": []
    },
    {
      "cell_type": "code",
      "metadata": {
        "id": "V4up1yu5G4TO"
      },
      "source": [
        "new_model.compile(optimizer='adam',\n",
        "              loss=new_loss_fn,\n",
        "              metrics=['accuracy'])"
      ],
      "execution_count": 25,
      "outputs": []
    },
    {
      "cell_type": "markdown",
      "metadata": {
        "id": "7k4lpPUdBAwZ"
      },
      "source": [
        "Retraining the model on the new training data"
      ]
    },
    {
      "cell_type": "code",
      "metadata": {
        "id": "dXiDRjbbvS5T",
        "colab": {
          "base_uri": "https://localhost:8080/"
        },
        "outputId": "4fcf43f7-0a3e-4dff-864e-ccbd917941a2"
      },
      "source": [
        "new_model.fit(x_train, y_train,\n",
        "          batch_size=32,\n",
        "          epochs=10)"
      ],
      "execution_count": 26,
      "outputs": [
        {
          "output_type": "stream",
          "name": "stdout",
          "text": [
            "Epoch 1/10\n",
            "3750/3750 [==============================] - 16s 4ms/step - loss: 0.1609 - accuracy: 0.9536\n",
            "Epoch 2/10\n",
            "3750/3750 [==============================] - 15s 4ms/step - loss: 0.0597 - accuracy: 0.9816\n",
            "Epoch 3/10\n",
            "3750/3750 [==============================] - 14s 4ms/step - loss: 0.0414 - accuracy: 0.9868\n",
            "Epoch 4/10\n",
            "3750/3750 [==============================] - 15s 4ms/step - loss: 0.0332 - accuracy: 0.9892\n",
            "Epoch 5/10\n",
            "3750/3750 [==============================] - 15s 4ms/step - loss: 0.0279 - accuracy: 0.9907\n",
            "Epoch 6/10\n",
            "3750/3750 [==============================] - 15s 4ms/step - loss: 0.0230 - accuracy: 0.9924\n",
            "Epoch 7/10\n",
            "3750/3750 [==============================] - 15s 4ms/step - loss: 0.0207 - accuracy: 0.9929\n",
            "Epoch 8/10\n",
            "3750/3750 [==============================] - 15s 4ms/step - loss: 0.0189 - accuracy: 0.9936\n",
            "Epoch 9/10\n",
            "3750/3750 [==============================] - 15s 4ms/step - loss: 0.0177 - accuracy: 0.9939\n",
            "Epoch 10/10\n",
            "3750/3750 [==============================] - 15s 4ms/step - loss: 0.0154 - accuracy: 0.9946\n"
          ]
        },
        {
          "output_type": "execute_result",
          "data": {
            "text/plain": [
              "<keras.callbacks.History at 0x7f5ae0fab410>"
            ]
          },
          "metadata": {},
          "execution_count": 26
        }
      ]
    },
    {
      "cell_type": "markdown",
      "metadata": {
        "id": "FlARBoH2BFO2"
      },
      "source": [
        "Calculating the training accuracy on the clean test set"
      ]
    },
    {
      "cell_type": "code",
      "metadata": {
        "id": "eteolbN1vYWH",
        "colab": {
          "base_uri": "https://localhost:8080/"
        },
        "outputId": "f0c3fa86-e512-401e-b93b-a04e12c9e867"
      },
      "source": [
        "print(\"Loss,Accuracy of clean images on the Modified DNN:\", new_model.evaluate(x=x_test, y=y_test, verbose=2))"
      ],
      "execution_count": 27,
      "outputs": [
        {
          "output_type": "stream",
          "name": "stdout",
          "text": [
            "313/313 - 1s - loss: 0.0891 - accuracy: 0.9775 - 707ms/epoch - 2ms/step\n",
            "Loss,Accuracy of clean images on the Modified DNN: [0.08909685164690018, 0.9775000214576721]\n"
          ]
        }
      ]
    },
    {
      "cell_type": "markdown",
      "metadata": {
        "id": "4HlGRgTpBLjw"
      },
      "source": [
        "Running the attack on the clean test set"
      ]
    },
    {
      "cell_type": "code",
      "metadata": {
        "id": "vV1diNokWhJU"
      },
      "source": [
        "image_tensor4 = tf.convert_to_tensor(x_test,dtype=tf.float32)\n",
        "with tf.GradientTape() as tape:\n",
        "    tape.watch(image_tensor4)\n",
        "    output4 = new_model(image_tensor4)\n",
        "    loss4 = new_loss_fn(y_test, output4)\n",
        "gradient4 = tape.gradient(loss4, image_tensor4)\n",
        "signed_grad4 = tf.sign(gradient4)"
      ],
      "execution_count": 28,
      "outputs": []
    },
    {
      "cell_type": "code",
      "metadata": {
        "id": "IK5iKxLaWxt1"
      },
      "source": [
        "adversarial_arrayRetrain = x_test\n",
        "adversarial_retrainLabel = y_test\n",
        "for i in range(len(epsilon)):\n",
        "  for k in range(len(x_test)):\n",
        "    image = x_test[k]  \n",
        "    adversarial_arrayRetrain[k] = image + signed_grad4[k]*0.0392156862745098 #10/255\n",
        "    adversarial_arrayRetrain[k] = tf.clip_by_value(adversarial_arrayRetrain[k], 0, 1)\n",
        "    adversarial_retrainLabel[k] = y_test[k]\n"
      ],
      "execution_count": 29,
      "outputs": []
    },
    {
      "cell_type": "markdown",
      "metadata": {
        "id": "tO5QJuW1BWm5"
      },
      "source": [
        "Calculating the accuracy on the attacked test set"
      ]
    },
    {
      "cell_type": "code",
      "metadata": {
        "id": "RFY5GRZHa-hI",
        "colab": {
          "base_uri": "https://localhost:8080/"
        },
        "outputId": "337b36b9-7877-4319-c474-cef2f5f776e4"
      },
      "source": [
        "print(\"Loss,Accuracy of perturbed images on the Modified DNN:\", new_model.evaluate(x=adversarial_arrayRetrain, y=adversarial_retrainLabel, verbose=2))"
      ],
      "execution_count": 30,
      "outputs": [
        {
          "output_type": "stream",
          "name": "stdout",
          "text": [
            "313/313 - 1s - loss: 205.0338 - accuracy: 0.0000e+00 - 583ms/epoch - 2ms/step\n",
            "Loss,Accuracy of perturbed images on the Modified DNN: [205.03382873535156, 0.0]\n"
          ]
        }
      ]
    },
    {
      "cell_type": "markdown",
      "metadata": {
        "id": "AZk3_gZKdOlV"
      },
      "source": [
        "The adversarially retrained DNN is not robust against the attacks."
      ]
    },
    {
      "cell_type": "markdown",
      "metadata": {
        "id": "xeE4-SXJgCX9"
      },
      "source": [
        "# References"
      ]
    },
    {
      "cell_type": "markdown",
      "metadata": {
        "id": "PEDC6aRKgGzG"
      },
      "source": [
        "https://colab.research.google.com/github/tensorflow/docs/blob/master/site/en/tutorials/quickstart/beginner.ipynb#scrollTo=h3IKyzTCDNGo\n",
        "\n",
        "https://www.tensorflow.org/tutorials/generative/adversarial_fgsm\n",
        "\n",
        "https://colab.research.google.com/github/tensorflow/docs/blob/master/site/en/tutorials/generative/adversarial_fgsm.ipynb\n",
        "\n",
        "https://medium.com/analytics-vidhya/implementing-adversarial-attacks-and-defenses-in-keras-tensorflow-2-0-cab6120c5715\n",
        "\n",
        "https://github.com/soumyac1999/FGSM-Keras\n",
        "\n",
        "https://github.com/EvolvedSquid/tutorials/blob/master/adversarial-attacks-defenses/adversarial-tutorial.ipynb\n",
        "\n",
        "https://www.w3resource.com/graphics/matplotlib/basic/matplotlib-basic-exercise-5.php\n",
        "\n"
      ]
    },
    {
      "cell_type": "markdown",
      "source": [
        ""
      ],
      "metadata": {
        "id": "HKRSRKGjoQfB"
      }
    }
  ]
}